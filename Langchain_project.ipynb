{
 "cells": [
  {
   "attachments": {},
   "cell_type": "markdown",
   "metadata": {},
   "source": [
    "# LangChain project\n",
    "\n",
    "In this project, we will set up a basic LongChain model. For a similar entry prompt, we query multiple LLMs (t5, GPT2 and blenderbot) and use a metrics to pick the most revelant answer.\n",
    "\n",
    "---\n"
   ]
  },
  {
   "cell_type": "code",
   "execution_count": 1,
   "metadata": {},
   "outputs": [],
   "source": [
    "import os\n",
    "os.environ['HUGGINGFACEHUB_API_TOKEN']=''"
   ]
  },
  {
   "cell_type": "code",
   "execution_count": 2,
   "metadata": {},
   "outputs": [
    {
     "name": "stderr",
     "output_type": "stream",
     "text": [
      "2023-06-01 16:38:01.889463: I tensorflow/core/platform/cpu_feature_guard.cc:193] This TensorFlow binary is optimized with oneAPI Deep Neural Network Library (oneDNN) to use the following CPU instructions in performance-critical operations:  SSE4.1 SSE4.2 AVX AVX2 AVX512F AVX512_VNNI FMA\n",
      "To enable them in other operations, rebuild TensorFlow with the appropriate compiler flags.\n"
     ]
    }
   ],
   "source": [
    "from langchain.llms import HuggingFacePipeline\n",
    "from langchain import PromptTemplate, HuggingFaceHub, LLMChain\n",
    "import torch\n",
    "from transformers import AutoTokenizer, AutoModelForCausalLM, pipeline, AutoModelForSeq2SeqLM"
   ]
  },
  {
   "cell_type": "code",
   "execution_count": 3,
   "metadata": {},
   "outputs": [],
   "source": [
    "template = \"\"\"Question: {question}\n",
    "\n",
    "Answer: Let's think step by step.\"\"\"\n",
    "\n",
    "prompt = PromptTemplate(template=template, input_variables=[\"question\"])"
   ]
  },
  {
   "attachments": {},
   "cell_type": "markdown",
   "metadata": {},
   "source": [
    "# Models \n",
    "\n",
    "We will use the following models: google/flan-t5-base, gpt2-medium, facebook/blenderbot"
   ]
  },
  {
   "cell_type": "code",
   "execution_count": 4,
   "metadata": {},
   "outputs": [],
   "source": [
    "model_id = 'google/flan-t5-base'\n",
    "tokenizer = AutoTokenizer.from_pretrained(model_id)\n",
    "model = AutoModelForSeq2SeqLM.from_pretrained(model_id)\n",
    "\n",
    "pipe = pipeline(\n",
    "    \"text2text-generation\",\n",
    "    model=model, \n",
    "    tokenizer=tokenizer, \n",
    "    max_length=100\n",
    ")\n",
    "\n",
    "local_llm_t5 = HuggingFacePipeline(pipeline=pipe)"
   ]
  },
  {
   "cell_type": "code",
   "execution_count": 5,
   "metadata": {},
   "outputs": [],
   "source": [
    "model_id = \"gpt2-medium\"\n",
    "tokenizer = AutoTokenizer.from_pretrained(model_id)\n",
    "model = AutoModelForCausalLM.from_pretrained(model_id)\n",
    "\n",
    "pipe = pipeline(\n",
    "    \"text-generation\", \n",
    "    model=model, \n",
    "    tokenizer=tokenizer, \n",
    "    max_length=100\n",
    ")\n",
    "\n",
    "local_llm_gpt2 = HuggingFacePipeline(pipeline=pipe)"
   ]
  },
  {
   "cell_type": "code",
   "execution_count": 6,
   "metadata": {},
   "outputs": [],
   "source": [
    "model_id = 'facebook/blenderbot-1B-distill'\n",
    "tokenizer = AutoTokenizer.from_pretrained(model_id)\n",
    "model = AutoModelForSeq2SeqLM.from_pretrained(model_id)\n",
    "\n",
    "pipe = pipeline(\n",
    "    \"text2text-generation\",\n",
    "    model=model, \n",
    "    tokenizer=tokenizer, \n",
    "    max_length=100\n",
    ")\n",
    "\n",
    "local_llm_bld = HuggingFacePipeline(pipeline=pipe)"
   ]
  },
  {
   "cell_type": "code",
   "execution_count": 7,
   "metadata": {},
   "outputs": [
    {
     "name": "stdout",
     "output_type": "stream",
     "text": [
      "The French president was Nicolas Sarkozy. Nicolas Sarkozy was the president of France from 2000 to 2001. The answer: Nicolas Sarkozy.\n"
     ]
    }
   ],
   "source": [
    "llm_chain_t5 = LLMChain(prompt=prompt, \n",
    "                     llm=local_llm_t5\n",
    "                     )\n",
    "\n",
    "question = \"Who was the french president in 2000?\"\n",
    "\n",
    "rep_t5 = llm_chain_t5.run(question)\n",
    "\n",
    "print(rep_t5)"
   ]
  },
  {
   "cell_type": "code",
   "execution_count": 8,
   "metadata": {},
   "outputs": [
    {
     "name": "stderr",
     "output_type": "stream",
     "text": [
      "Setting `pad_token_id` to `eos_token_id`:50256 for open-end generation.\n",
      "Setting `pad_token_id` to `eos_token_id`:50256 for open-end generation.\n"
     ]
    },
    {
     "name": "stdout",
     "output_type": "stream",
     "text": [
      "\n",
      "\n",
      "The first president of this club of nations is still in office: President François Hollande, who succeeded the outgoing president Nicolas Sarkozy in office in 2015, who left office to become Prime Minister at the time and the current president of France, Emmanuel Macron of the centrist UMP party, who will be returning to the Élysée Palace in December for \"a year of great commitment and leadership\n"
     ]
    }
   ],
   "source": [
    "llm_chain_gpt2 = LLMChain(prompt=prompt, \n",
    "                     llm=local_llm_gpt2\n",
    "                     )\n",
    "\n",
    "rep_gpt2 = llm_chain_gpt2.run(question)\n",
    "\n",
    "print(llm_chain_gpt2.run(question))"
   ]
  },
  {
   "cell_type": "code",
   "execution_count": 9,
   "metadata": {},
   "outputs": [
    {
     "name": "stdout",
     "output_type": "stream",
     "text": [
      " I'm not sure who the French president was in 2000, but I do know that the current president is Donald J. Trump.\n"
     ]
    }
   ],
   "source": [
    "llm_chain_bld = LLMChain(prompt=prompt, \n",
    "                     llm=local_llm_bld\n",
    "                     )\n",
    "\n",
    "rep_bld = llm_chain_bld.run(question)\n",
    "\n",
    "print(rep_bld)"
   ]
  },
  {
   "attachments": {},
   "cell_type": "markdown",
   "metadata": {},
   "source": [
    "# Evaluation\n",
    "\n",
    "We will use the following metric BERTScore"
   ]
  },
  {
   "cell_type": "code",
   "execution_count": 10,
   "metadata": {},
   "outputs": [],
   "source": [
    "from evaluate import load\n",
    "\n",
    "# Bertscore metrics :\n",
    "\n",
    "bertscore = load(\"bertscore\")\n",
    "\n",
    "\n",
    "predictions = [rep_t5, rep_gpt2, rep_bld]\n",
    "references = [\"Jacques Chirac was the french president in 2000\", \"Jacques Chirac was the french president in 2000\", \"Jacques Chirac was the french president in 2000\"]\n",
    "results_bert = bertscore.compute(predictions=predictions, references=references, lang=\"en\")"
   ]
  },
  {
   "cell_type": "code",
   "execution_count": 11,
   "metadata": {},
   "outputs": [],
   "source": [
    "# Bleu metrics :\n",
    "\n",
    "#t5 :\n",
    "predictions_t5 = [rep_t5]\n",
    "predictions_gpt2 = [rep_gpt2]\n",
    "predictions_bld = [rep_bld]\n",
    "\n",
    "references = [\"Jacques Chirac was the french president in 2000\"]\n",
    "Bleu = load(\"bleu\")\n",
    "results_bleu = {\"t5 \" : Bleu.compute(predictions=predictions_t5, references=references), \n",
    "                \"gpt2\" : Bleu.compute(predictions=[rep_gpt2], references=references),\n",
    "                \"blenderbot\" : Bleu.compute(predictions=[rep_bld], references=references)\n",
    "                }"
   ]
  },
  {
   "cell_type": "code",
   "execution_count": 12,
   "metadata": {},
   "outputs": [
    {
     "data": {
      "text/plain": [
       "<AxesSubplot:>"
      ]
     },
     "execution_count": 12,
     "metadata": {},
     "output_type": "execute_result"
    },
    {
     "data": {
      "image/png": "[encoded data removed]",
      "text/plain": [
       "<Figure size 640x480 with 1 Axes>"
      ]
     },
     "metadata": {},
     "output_type": "display_data"
    }
   ],
   "source": [
    "import seaborn as sns\n",
    "sns.set_style(\"darkgrid\")\n",
    "\n",
    "sns.barplot(x=[\"T5\", \"GPT2\", \"Blenderbot\"], y=[results_bert[\"f1\"][0], results_bert[\"f1\"][1], results_bert[\"f1\"][2]])"
   ]
  },
  {
   "attachments": {},
   "cell_type": "markdown",
   "metadata": {},
   "source": [
    "For this question, t5 had the best f1 score. But the answer is not the best."
   ]
  },
  {
   "cell_type": "code",
   "execution_count": 13,
   "metadata": {},
   "outputs": [
    {
     "data": {
      "text/plain": [
       "{'precision': [0.8907017111778259, 0.8213495016098022, 0.8655298352241516],\n",
       " 'recall': [0.8947720527648926, 0.8719547390937805, 0.8741407990455627],\n",
       " 'f1': [0.8927322626113892, 0.8458959460258484, 0.8698140382766724],\n",
       " 'hashcode': 'roberta-large_L17_no-idf_version=0.3.9(hug_trans=4.24.0)'}"
      ]
     },
     "execution_count": 13,
     "metadata": {},
     "output_type": "execute_result"
    }
   ],
   "source": [
    "results_bert"
   ]
  },
  {
   "cell_type": "code",
   "execution_count": 14,
   "metadata": {},
   "outputs": [
    {
     "data": {
      "text/plain": [
       "{'t5 ': {'bleu': 0.0,\n",
       "  'precisions': [0.16, 0.041666666666666664, 0.0, 0.0],\n",
       "  'brevity_penalty': 1.0,\n",
       "  'length_ratio': 3.125,\n",
       "  'translation_length': 25,\n",
       "  'reference_length': 8},\n",
       " 'gpt2': {'bleu': 0.0,\n",
       "  'precisions': [0.0547945205479452, 0.0, 0.0, 0.0],\n",
       "  'brevity_penalty': 1.0,\n",
       "  'length_ratio': 9.125,\n",
       "  'translation_length': 73,\n",
       "  'reference_length': 8},\n",
       " 'blenderbot': {'bleu': 0.0,\n",
       "  'precisions': [0.2, 0.041666666666666664, 0.0, 0.0],\n",
       "  'brevity_penalty': 1.0,\n",
       "  'length_ratio': 3.125,\n",
       "  'translation_length': 25,\n",
       "  'reference_length': 8}}"
      ]
     },
     "execution_count": 14,
     "metadata": {},
     "output_type": "execute_result"
    }
   ],
   "source": [
    "results_bleu"
   ]
  }
 ],
 "metadata": {
  "kernelspec": {
   "display_name": "travail",
   "language": "python",
   "name": "python3"
  },
  "language_info": {
   "codemirror_mode": {
    "name": "ipython",
    "version": 3
   },
   "file_extension": ".py",
   "mimetype": "text/x-python",
   "name": "python",
   "nbconvert_exporter": "python",
   "pygments_lexer": "ipython3",
   "version": "3.10.11"
  },
  "orig_nbformat": 4
 },
 "nbformat": 4,
 "nbformat_minor": 2
}
